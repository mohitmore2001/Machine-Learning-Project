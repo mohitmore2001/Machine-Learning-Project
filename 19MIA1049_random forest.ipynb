{
 "cells": [
  {
   "cell_type": "code",
   "execution_count": 12,
   "id": "932e6d3f",
   "metadata": {},
   "outputs": [],
   "source": [
    "import pandas as pd\n",
    "import numpy as np\n",
    "import sklearn\n",
    "from sklearn.model_selection import train_test_split\n",
    "from sklearn.ensemble import RandomForestClassifier"
   ]
  },
  {
   "cell_type": "code",
   "execution_count": 2,
   "id": "ca87f3c5",
   "metadata": {},
   "outputs": [],
   "source": [
    "data = pd.read_csv(\"data.csv\")"
   ]
  },
  {
   "cell_type": "code",
   "execution_count": 3,
   "id": "868ad242",
   "metadata": {},
   "outputs": [
    {
     "data": {
      "text/plain": [
       "radius_1ean                0\n",
       "texture_1ean               0\n",
       "peri1eter_1ean             0\n",
       "area_1ean                  0\n",
       "s1oothness_1ean            0\n",
       "co1pactness_1ean           0\n",
       "concavity_1ean             0\n",
       "concave points_1ean        0\n",
       "sy11etry_1ean              0\n",
       "fractal_di1ension_1ean     0\n",
       "radius_se                  0\n",
       "texture_se                 0\n",
       "peri1eter_se               0\n",
       "area_se                    0\n",
       "s1oothness_se              0\n",
       "co1pactness_se             0\n",
       "concavity_se               0\n",
       "concave points_se          0\n",
       "sy11etry_se                0\n",
       "fractal_di1ension_se       0\n",
       "radius_worst               0\n",
       "texture_worst              0\n",
       "peri1eter_worst            0\n",
       "area_worst                 0\n",
       "s1oothness_worst           0\n",
       "co1pactness_worst          0\n",
       "concavity_worst            0\n",
       "concave points_worst       0\n",
       "sy11etry_worst             0\n",
       "fractal_di1ension_worst    0\n",
       "diagnosis                  0\n",
       "dtype: int64"
      ]
     },
     "execution_count": 3,
     "metadata": {},
     "output_type": "execute_result"
    }
   ],
   "source": [
    "data.isna().sum()"
   ]
  },
  {
   "cell_type": "code",
   "execution_count": 4,
   "id": "f93cad0b",
   "metadata": {},
   "outputs": [
    {
     "data": {
      "text/plain": [
       "<bound method DataFrame.info of      radius_1ean  texture_1ean  peri1eter_1ean  area_1ean  s1oothness_1ean  \\\n",
       "0          17.99         10.38          122.80     1001.0          0.11840   \n",
       "1          20.57         17.77          132.90     1326.0          0.08474   \n",
       "2          19.69         21.25          130.00     1203.0          0.10960   \n",
       "3          11.42         20.38           77.58      386.1          0.14250   \n",
       "4          20.29         14.34          135.10     1297.0          0.10030   \n",
       "..           ...           ...             ...        ...              ...   \n",
       "564        21.56         22.39          142.00     1479.0          0.11100   \n",
       "565        20.13         28.25          131.20     1261.0          0.09780   \n",
       "566        16.60         28.08          108.30      858.1          0.08455   \n",
       "567        20.60         29.33          140.10     1265.0          0.11780   \n",
       "568         7.76         24.54           47.92      181.0          0.05263   \n",
       "\n",
       "     co1pactness_1ean  concavity_1ean  concave points_1ean  sy11etry_1ean  \\\n",
       "0             0.27760         0.30010              0.14710         0.2419   \n",
       "1             0.07864         0.08690              0.07017         0.1812   \n",
       "2             0.15990         0.19740              0.12790         0.2069   \n",
       "3             0.28390         0.24140              0.10520         0.2597   \n",
       "4             0.13280         0.19800              0.10430         0.1809   \n",
       "..                ...             ...                  ...            ...   \n",
       "564           0.11590         0.24390              0.13890         0.1726   \n",
       "565           0.10340         0.14400              0.09791         0.1752   \n",
       "566           0.10230         0.09251              0.05302         0.1590   \n",
       "567           0.27700         0.35140              0.15200         0.2397   \n",
       "568           0.04362         0.00000              0.00000         0.1587   \n",
       "\n",
       "     fractal_di1ension_1ean  ...  texture_worst  peri1eter_worst  area_worst  \\\n",
       "0                   0.07871  ...          17.33           184.60      2019.0   \n",
       "1                   0.05667  ...          23.41           158.80      1956.0   \n",
       "2                   0.05999  ...          25.53           152.50      1709.0   \n",
       "3                   0.09744  ...          26.50            98.87       567.7   \n",
       "4                   0.05883  ...          16.67           152.20      1575.0   \n",
       "..                      ...  ...            ...              ...         ...   \n",
       "564                 0.05623  ...          26.40           166.10      2027.0   \n",
       "565                 0.05533  ...          38.25           155.00      1731.0   \n",
       "566                 0.05648  ...          34.12           126.70      1124.0   \n",
       "567                 0.07016  ...          39.42           184.60      1821.0   \n",
       "568                 0.05884  ...          30.37            59.16       268.6   \n",
       "\n",
       "     s1oothness_worst  co1pactness_worst  concavity_worst  \\\n",
       "0             0.16220            0.66560           0.7119   \n",
       "1             0.12380            0.18660           0.2416   \n",
       "2             0.14440            0.42450           0.4504   \n",
       "3             0.20980            0.86630           0.6869   \n",
       "4             0.13740            0.20500           0.4000   \n",
       "..                ...                ...              ...   \n",
       "564           0.14100            0.21130           0.4107   \n",
       "565           0.11660            0.19220           0.3215   \n",
       "566           0.11390            0.30940           0.3403   \n",
       "567           0.16500            0.86810           0.9387   \n",
       "568           0.08996            0.06444           0.0000   \n",
       "\n",
       "     concave points_worst  sy11etry_worst  fractal_di1ension_worst  diagnosis  \n",
       "0                  0.2654          0.4601                  0.11890          1  \n",
       "1                  0.1860          0.2750                  0.08902          1  \n",
       "2                  0.2430          0.3613                  0.08758          1  \n",
       "3                  0.2575          0.6638                  0.17300          1  \n",
       "4                  0.1625          0.2364                  0.07678          1  \n",
       "..                    ...             ...                      ...        ...  \n",
       "564                0.2216          0.2060                  0.07115          1  \n",
       "565                0.1628          0.2572                  0.06637          1  \n",
       "566                0.1418          0.2218                  0.07820          1  \n",
       "567                0.2650          0.4087                  0.12400          1  \n",
       "568                0.0000          0.2871                  0.07039          0  \n",
       "\n",
       "[569 rows x 31 columns]>"
      ]
     },
     "execution_count": 4,
     "metadata": {},
     "output_type": "execute_result"
    }
   ],
   "source": [
    "data.info"
   ]
  },
  {
   "cell_type": "code",
   "execution_count": 6,
   "id": "49bd03d5",
   "metadata": {},
   "outputs": [],
   "source": [
    "X = data.drop('diagnosis',axis=1)\n",
    "y = data['diagnosis']"
   ]
  },
  {
   "cell_type": "code",
   "execution_count": 7,
   "id": "015d3e10",
   "metadata": {},
   "outputs": [],
   "source": [
    "X_train,X_test,Y_train,Y_test = train_test_split(X,y)"
   ]
  },
  {
   "cell_type": "code",
   "execution_count": 8,
   "id": "a786e344",
   "metadata": {},
   "outputs": [],
   "source": [
    "from sklearn.preprocessing import StandardScaler\n",
    "\n",
    "scalar = StandardScaler()\n",
    "scalar = scalar.fit(X_train)\n",
    "X_train = scalar.transform(X_train)\n",
    "X_test = scalar.transform(X_test)"
   ]
  },
  {
   "cell_type": "code",
   "execution_count": 13,
   "id": "061ab7f5",
   "metadata": {},
   "outputs": [],
   "source": [
    "model =  RandomForestClassifier(n_estimators = 100,random_state = 42)"
   ]
  },
  {
   "cell_type": "code",
   "execution_count": 14,
   "id": "dbf9f311",
   "metadata": {},
   "outputs": [
    {
     "data": {
      "text/plain": [
       "RandomForestClassifier(random_state=42)"
      ]
     },
     "execution_count": 14,
     "metadata": {},
     "output_type": "execute_result"
    }
   ],
   "source": [
    "model.fit(X_train,Y_train)"
   ]
  },
  {
   "cell_type": "code",
   "execution_count": 17,
   "id": "4d33c1e3",
   "metadata": {},
   "outputs": [
    {
     "name": "stdout",
     "output_type": "stream",
     "text": [
      "\n",
      "AUC - ROC :  1.0\n"
     ]
    }
   ],
   "source": [
    "from sklearn.metrics import roc_auc_score\n",
    "print (\"\\nAUC - ROC : \", roc_auc_score(Y_train,model.predict(X_train)))"
   ]
  },
  {
   "cell_type": "code",
   "execution_count": 21,
   "id": "cddf6add",
   "metadata": {},
   "outputs": [
    {
     "name": "stdout",
     "output_type": "stream",
     "text": [
      "\n",
      " Leaf size : 1\n",
      "AUC - ROC :  1.0\n",
      "\n",
      " Leaf size : 2\n",
      "AUC - ROC :  0.9937106918238994\n",
      "\n",
      " Leaf size : 3\n",
      "AUC - ROC :  0.9868207193837891\n",
      "\n",
      " Leaf size : 4\n",
      "AUC - ROC :  0.9868207193837891\n",
      "\n",
      " Leaf size : 5\n",
      "AUC - ROC :  0.9836760652957388\n",
      "\n",
      " Leaf size : 10\n",
      "AUC - ROC :  0.9623348173273973\n",
      "\n",
      " Leaf size : 20\n",
      "AUC - ROC :  0.9523001907992369\n"
     ]
    }
   ],
   "source": [
    "#tunning the parameters\n",
    "sample_leaf_options = [1,2,3,4,5,10,20]\n",
    "\n",
    "# for loop to iterate for each leaf size\n",
    "for leaf_size in sample_leaf_options :\n",
    "    model = RandomForestClassifier(n_estimators = 200, n_jobs = -1,random_state =50, min_samples_leaf = leaf_size)\n",
    "    model.fit(X_train,Y_train)\n",
    "    print(\"\\n Leaf size :\", leaf_size)\n",
    "    print (\"AUC - ROC : \", roc_auc_score(Y_train,model.predict(X_train)))"
   ]
  }
 ],
 "metadata": {
  "kernelspec": {
   "display_name": "Python 3",
   "language": "python",
   "name": "python3"
  },
  "language_info": {
   "codemirror_mode": {
    "name": "ipython",
    "version": 3
   },
   "file_extension": ".py",
   "mimetype": "text/x-python",
   "name": "python",
   "nbconvert_exporter": "python",
   "pygments_lexer": "ipython3",
   "version": "3.8.8"
  }
 },
 "nbformat": 4,
 "nbformat_minor": 5
}
